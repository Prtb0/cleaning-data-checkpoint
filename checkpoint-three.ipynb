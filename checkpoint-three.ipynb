{
 "cells": [
  {
   "cell_type": "markdown",
   "metadata": {
    "azdata_cell_guid": "26037d32-2047-4157-81ef-595916bd66a0"
   },
   "source": [
    "# Checkpoint Three: Cleaning Data\n",
    "\n",
    "Now you are ready to clean your data. Before starting coding, provide the link to your dataset below.\n",
    "\n",
    "My dataset::https://www.kaggle.com/datasets/juhibhojani/airline-reviews\n",
    "\n",
    "Import the necessary libraries and create your dataframe(s)."
   ]
  },
  {
   "cell_type": "code",
   "execution_count": 34,
   "metadata": {
    "azdata_cell_guid": "e8adef8e-d0f2-4640-a179-5997f11e82ca"
   },
   "outputs": [],
   "source": [
    "import pandas as pd\n",
    "import matplotlib.pyplot as plt\n",
    "import seaborn as sns\n",
    "import numpy as np\n",
    "\n",
    "# Read the data\n",
    "df = pd.read_csv(\"Airline_review.csv\")"
   ]
  },
  {
   "cell_type": "code",
   "execution_count": 35,
   "metadata": {},
   "outputs": [
    {
     "name": "stdout",
     "output_type": "stream",
     "text": [
      "<class 'pandas.core.frame.DataFrame'>\n",
      "RangeIndex: 23171 entries, 0 to 23170\n",
      "Data columns (total 20 columns):\n",
      " #   Column                  Non-Null Count  Dtype  \n",
      "---  ------                  --------------  -----  \n",
      " 0   Unnamed: 0              23171 non-null  int64  \n",
      " 1   Airline Name            23171 non-null  object \n",
      " 2   Overall_Rating          23171 non-null  object \n",
      " 3   Review_Title            23171 non-null  object \n",
      " 4   Review Date             23171 non-null  object \n",
      " 5   Verified                23171 non-null  bool   \n",
      " 6   Review                  23171 non-null  object \n",
      " 7   Aircraft                7129 non-null   object \n",
      " 8   Type Of Traveller       19433 non-null  object \n",
      " 9   Seat Type               22075 non-null  object \n",
      " 10  Route                   19343 non-null  object \n",
      " 11  Date Flown              19417 non-null  object \n",
      " 12  Seat Comfort            19016 non-null  float64\n",
      " 13  Cabin Staff Service     18911 non-null  float64\n",
      " 14  Food & Beverages        14500 non-null  float64\n",
      " 15  Ground Service          18378 non-null  float64\n",
      " 16  Inflight Entertainment  10829 non-null  float64\n",
      " 17  Wifi & Connectivity     5920 non-null   float64\n",
      " 18  Value For Money         22105 non-null  float64\n",
      " 19  Recommended             23171 non-null  object \n",
      "dtypes: bool(1), float64(7), int64(1), object(11)\n",
      "memory usage: 3.4+ MB\n"
     ]
    }
   ],
   "source": [
    "#info of the data\n",
    "df.info()"
   ]
  },
  {
   "cell_type": "code",
   "execution_count": 36,
   "metadata": {},
   "outputs": [
    {
     "data": {
      "text/html": [
       "<div>\n",
       "<style scoped>\n",
       "    .dataframe tbody tr th:only-of-type {\n",
       "        vertical-align: middle;\n",
       "    }\n",
       "\n",
       "    .dataframe tbody tr th {\n",
       "        vertical-align: top;\n",
       "    }\n",
       "\n",
       "    .dataframe thead th {\n",
       "        text-align: right;\n",
       "    }\n",
       "</style>\n",
       "<table border=\"1\" class=\"dataframe\">\n",
       "  <thead>\n",
       "    <tr style=\"text-align: right;\">\n",
       "      <th></th>\n",
       "      <th>Unnamed: 0</th>\n",
       "      <th>Airline Name</th>\n",
       "      <th>Overall_Rating</th>\n",
       "      <th>Review_Title</th>\n",
       "      <th>Review Date</th>\n",
       "      <th>Verified</th>\n",
       "      <th>Review</th>\n",
       "      <th>Aircraft</th>\n",
       "      <th>Type Of Traveller</th>\n",
       "      <th>Seat Type</th>\n",
       "      <th>Route</th>\n",
       "      <th>Date Flown</th>\n",
       "      <th>Seat Comfort</th>\n",
       "      <th>Cabin Staff Service</th>\n",
       "      <th>Food &amp; Beverages</th>\n",
       "      <th>Ground Service</th>\n",
       "      <th>Inflight Entertainment</th>\n",
       "      <th>Wifi &amp; Connectivity</th>\n",
       "      <th>Value For Money</th>\n",
       "      <th>Recommended</th>\n",
       "    </tr>\n",
       "  </thead>\n",
       "  <tbody>\n",
       "    <tr>\n",
       "      <th>0</th>\n",
       "      <td>0</td>\n",
       "      <td>AB Aviation</td>\n",
       "      <td>9</td>\n",
       "      <td>\"pretty decent airline\"</td>\n",
       "      <td>11th November 2019</td>\n",
       "      <td>True</td>\n",
       "      <td>Moroni to Moheli. Turned out to be a pretty ...</td>\n",
       "      <td>NaN</td>\n",
       "      <td>Solo Leisure</td>\n",
       "      <td>Economy Class</td>\n",
       "      <td>Moroni to Moheli</td>\n",
       "      <td>November 2019</td>\n",
       "      <td>4.0</td>\n",
       "      <td>5.0</td>\n",
       "      <td>4.0</td>\n",
       "      <td>4.0</td>\n",
       "      <td>NaN</td>\n",
       "      <td>NaN</td>\n",
       "      <td>3.0</td>\n",
       "      <td>yes</td>\n",
       "    </tr>\n",
       "    <tr>\n",
       "      <th>1</th>\n",
       "      <td>1</td>\n",
       "      <td>AB Aviation</td>\n",
       "      <td>1</td>\n",
       "      <td>\"Not a good airline\"</td>\n",
       "      <td>25th June 2019</td>\n",
       "      <td>True</td>\n",
       "      <td>Moroni to Anjouan. It is a very small airline...</td>\n",
       "      <td>E120</td>\n",
       "      <td>Solo Leisure</td>\n",
       "      <td>Economy Class</td>\n",
       "      <td>Moroni to Anjouan</td>\n",
       "      <td>June 2019</td>\n",
       "      <td>2.0</td>\n",
       "      <td>2.0</td>\n",
       "      <td>1.0</td>\n",
       "      <td>1.0</td>\n",
       "      <td>NaN</td>\n",
       "      <td>NaN</td>\n",
       "      <td>2.0</td>\n",
       "      <td>no</td>\n",
       "    </tr>\n",
       "    <tr>\n",
       "      <th>2</th>\n",
       "      <td>2</td>\n",
       "      <td>AB Aviation</td>\n",
       "      <td>1</td>\n",
       "      <td>\"flight was fortunately short\"</td>\n",
       "      <td>25th June 2019</td>\n",
       "      <td>True</td>\n",
       "      <td>Anjouan to Dzaoudzi. A very small airline an...</td>\n",
       "      <td>Embraer E120</td>\n",
       "      <td>Solo Leisure</td>\n",
       "      <td>Economy Class</td>\n",
       "      <td>Anjouan to Dzaoudzi</td>\n",
       "      <td>June 2019</td>\n",
       "      <td>2.0</td>\n",
       "      <td>1.0</td>\n",
       "      <td>1.0</td>\n",
       "      <td>1.0</td>\n",
       "      <td>NaN</td>\n",
       "      <td>NaN</td>\n",
       "      <td>2.0</td>\n",
       "      <td>no</td>\n",
       "    </tr>\n",
       "    <tr>\n",
       "      <th>3</th>\n",
       "      <td>3</td>\n",
       "      <td>Adria Airways</td>\n",
       "      <td>1</td>\n",
       "      <td>\"I will never fly again with Adria\"</td>\n",
       "      <td>28th September 2019</td>\n",
       "      <td>False</td>\n",
       "      <td>Please do a favor yourself and do not fly wi...</td>\n",
       "      <td>NaN</td>\n",
       "      <td>Solo Leisure</td>\n",
       "      <td>Economy Class</td>\n",
       "      <td>Frankfurt to Pristina</td>\n",
       "      <td>September 2019</td>\n",
       "      <td>1.0</td>\n",
       "      <td>1.0</td>\n",
       "      <td>NaN</td>\n",
       "      <td>1.0</td>\n",
       "      <td>NaN</td>\n",
       "      <td>NaN</td>\n",
       "      <td>1.0</td>\n",
       "      <td>no</td>\n",
       "    </tr>\n",
       "    <tr>\n",
       "      <th>4</th>\n",
       "      <td>4</td>\n",
       "      <td>Adria Airways</td>\n",
       "      <td>1</td>\n",
       "      <td>\"it ruined our last days of holidays\"</td>\n",
       "      <td>24th September 2019</td>\n",
       "      <td>True</td>\n",
       "      <td>Do not book a flight with this airline! My fr...</td>\n",
       "      <td>NaN</td>\n",
       "      <td>Couple Leisure</td>\n",
       "      <td>Economy Class</td>\n",
       "      <td>Sofia to Amsterdam via Ljubljana</td>\n",
       "      <td>September 2019</td>\n",
       "      <td>1.0</td>\n",
       "      <td>1.0</td>\n",
       "      <td>1.0</td>\n",
       "      <td>1.0</td>\n",
       "      <td>1.0</td>\n",
       "      <td>1.0</td>\n",
       "      <td>1.0</td>\n",
       "      <td>no</td>\n",
       "    </tr>\n",
       "  </tbody>\n",
       "</table>\n",
       "</div>"
      ],
      "text/plain": [
       "   Unnamed: 0   Airline Name Overall_Rating  \\\n",
       "0           0    AB Aviation              9   \n",
       "1           1    AB Aviation              1   \n",
       "2           2    AB Aviation              1   \n",
       "3           3  Adria Airways              1   \n",
       "4           4  Adria Airways              1   \n",
       "\n",
       "                            Review_Title          Review Date  Verified  \\\n",
       "0                \"pretty decent airline\"   11th November 2019      True   \n",
       "1                   \"Not a good airline\"       25th June 2019      True   \n",
       "2         \"flight was fortunately short\"       25th June 2019      True   \n",
       "3    \"I will never fly again with Adria\"  28th September 2019     False   \n",
       "4  \"it ruined our last days of holidays\"  24th September 2019      True   \n",
       "\n",
       "                                              Review       Aircraft  \\\n",
       "0    Moroni to Moheli. Turned out to be a pretty ...            NaN   \n",
       "1   Moroni to Anjouan. It is a very small airline...           E120   \n",
       "2    Anjouan to Dzaoudzi. A very small airline an...  Embraer E120    \n",
       "3    Please do a favor yourself and do not fly wi...            NaN   \n",
       "4   Do not book a flight with this airline! My fr...            NaN   \n",
       "\n",
       "  Type Of Traveller      Seat Type                             Route  \\\n",
       "0      Solo Leisure  Economy Class                  Moroni to Moheli   \n",
       "1      Solo Leisure  Economy Class                 Moroni to Anjouan   \n",
       "2      Solo Leisure  Economy Class               Anjouan to Dzaoudzi   \n",
       "3      Solo Leisure  Economy Class             Frankfurt to Pristina   \n",
       "4    Couple Leisure  Economy Class  Sofia to Amsterdam via Ljubljana   \n",
       "\n",
       "       Date Flown  Seat Comfort  Cabin Staff Service  Food & Beverages  \\\n",
       "0   November 2019           4.0                  5.0               4.0   \n",
       "1       June 2019           2.0                  2.0               1.0   \n",
       "2       June 2019           2.0                  1.0               1.0   \n",
       "3  September 2019           1.0                  1.0               NaN   \n",
       "4  September 2019           1.0                  1.0               1.0   \n",
       "\n",
       "   Ground Service  Inflight Entertainment  Wifi & Connectivity  \\\n",
       "0             4.0                     NaN                  NaN   \n",
       "1             1.0                     NaN                  NaN   \n",
       "2             1.0                     NaN                  NaN   \n",
       "3             1.0                     NaN                  NaN   \n",
       "4             1.0                     1.0                  1.0   \n",
       "\n",
       "   Value For Money Recommended  \n",
       "0              3.0         yes  \n",
       "1              2.0          no  \n",
       "2              2.0          no  \n",
       "3              1.0          no  \n",
       "4              1.0          no  "
      ]
     },
     "execution_count": 36,
     "metadata": {},
     "output_type": "execute_result"
    }
   ],
   "source": [
    "df.head()"
   ]
  },
  {
   "cell_type": "code",
   "execution_count": 37,
   "metadata": {},
   "outputs": [
    {
     "data": {
      "text/plain": [
       "Index(['Unnamed: 0', 'Airline Name', 'Overall_Rating', 'Review_Title',\n",
       "       'Review Date', 'Verified', 'Review', 'Aircraft', 'Type Of Traveller',\n",
       "       'Seat Type', 'Route', 'Date Flown', 'Seat Comfort',\n",
       "       'Cabin Staff Service', 'Food & Beverages', 'Ground Service',\n",
       "       'Inflight Entertainment', 'Wifi & Connectivity', 'Value For Money',\n",
       "       'Recommended'],\n",
       "      dtype='object')"
      ]
     },
     "execution_count": 37,
     "metadata": {},
     "output_type": "execute_result"
    }
   ],
   "source": [
    "df.columns"
   ]
  },
  {
   "cell_type": "code",
   "execution_count": 38,
   "metadata": {},
   "outputs": [
    {
     "name": "stdout",
     "output_type": "stream",
     "text": [
      "(23171, 20)\n",
      "Unnamed: 0                  int64\n",
      "Airline Name               object\n",
      "Overall_Rating             object\n",
      "Review_Title               object\n",
      "Review Date                object\n",
      "Verified                     bool\n",
      "Review                     object\n",
      "Aircraft                   object\n",
      "Type Of Traveller          object\n",
      "Seat Type                  object\n",
      "Route                      object\n",
      "Date Flown                 object\n",
      "Seat Comfort              float64\n",
      "Cabin Staff Service       float64\n",
      "Food & Beverages          float64\n",
      "Ground Service            float64\n",
      "Inflight Entertainment    float64\n",
      "Wifi & Connectivity       float64\n",
      "Value For Money           float64\n",
      "Recommended                object\n",
      "dtype: object\n"
     ]
    }
   ],
   "source": [
    "# shape and data types of the data\n",
    "print(df.shape)\n",
    "print(df.dtypes)"
   ]
  },
  {
   "cell_type": "code",
   "execution_count": 39,
   "metadata": {},
   "outputs": [
    {
     "name": "stdout",
     "output_type": "stream",
     "text": [
      "['Unnamed: 0' 'Seat Comfort' 'Cabin Staff Service' 'Food & Beverages'\n",
      " 'Ground Service' 'Inflight Entertainment' 'Wifi & Connectivity'\n",
      " 'Value For Money']\n",
      "['Airline Name' 'Overall_Rating' 'Review_Title' 'Review Date' 'Verified'\n",
      " 'Review' 'Aircraft' 'Type Of Traveller' 'Seat Type' 'Route' 'Date Flown'\n",
      " 'Recommended']\n"
     ]
    }
   ],
   "source": [
    "# select numeric columns\n",
    "df_numeric = df.select_dtypes(include=[np.number])\n",
    "numeric_cols = df_numeric.columns.values\n",
    "print(numeric_cols)\n",
    "\n",
    "# select non numeric columns\n",
    "df_non_numeric = df.select_dtypes(exclude=[np.number])\n",
    "non_numeric_cols = df_non_numeric.columns.values\n",
    "print(non_numeric_cols)"
   ]
  },
  {
   "cell_type": "markdown",
   "metadata": {
    "azdata_cell_guid": "e172475a-c4ee-414a-8367-9965355dbba6"
   },
   "source": [
    "## Missing Data\n",
    "\n",
    "Test your dataset for missing data and handle it as needed. Make notes in the form of code comments as to your thought process."
   ]
  },
  {
   "cell_type": "code",
   "execution_count": 40,
   "metadata": {
    "azdata_cell_guid": "e1dc66ef-e471-4c27-92e7-ee878c106eba",
    "scrolled": true
   },
   "outputs": [
    {
     "name": "stdout",
     "output_type": "stream",
     "text": [
      "Unnamed: 0 - 0%\n",
      "Airline Name - 0%\n",
      "Overall_Rating - 0%\n",
      "Review_Title - 0%\n",
      "Review Date - 0%\n",
      "Verified - 0%\n",
      "Review - 0%\n",
      "Aircraft - 69%\n",
      "Type Of Traveller - 16%\n",
      "Seat Type - 5%\n",
      "Route - 17%\n",
      "Date Flown - 16%\n",
      "Seat Comfort - 18%\n",
      "Cabin Staff Service - 18%\n",
      "Food & Beverages - 37%\n",
      "Ground Service - 21%\n",
      "Inflight Entertainment - 53%\n",
      "Wifi & Connectivity - 74%\n",
      "Value For Money - 5%\n",
      "Recommended - 0%\n"
     ]
    }
   ],
   "source": [
    "# missing data % for each feature.\n",
    "for col in df.columns:\n",
    "    pct_missing = np.mean(df[col].isnull())\n",
    "    print('{} - {}%'.format(col, round(pct_missing*100)))"
   ]
  },
  {
   "cell_type": "code",
   "execution_count": 41,
   "metadata": {},
   "outputs": [
    {
     "data": {
      "text/html": [
       "<div>\n",
       "<style scoped>\n",
       "    .dataframe tbody tr th:only-of-type {\n",
       "        vertical-align: middle;\n",
       "    }\n",
       "\n",
       "    .dataframe tbody tr th {\n",
       "        vertical-align: top;\n",
       "    }\n",
       "\n",
       "    .dataframe thead th {\n",
       "        text-align: right;\n",
       "    }\n",
       "</style>\n",
       "<table border=\"1\" class=\"dataframe\">\n",
       "  <thead>\n",
       "    <tr style=\"text-align: right;\">\n",
       "      <th></th>\n",
       "      <th>Unnamed: 0</th>\n",
       "      <th>Verified</th>\n",
       "      <th>Seat Comfort</th>\n",
       "      <th>Cabin Staff Service</th>\n",
       "      <th>Food &amp; Beverages</th>\n",
       "      <th>Ground Service</th>\n",
       "      <th>Inflight Entertainment</th>\n",
       "      <th>Wifi &amp; Connectivity</th>\n",
       "      <th>Value For Money</th>\n",
       "    </tr>\n",
       "  </thead>\n",
       "  <tbody>\n",
       "    <tr>\n",
       "      <th>Unnamed: 0</th>\n",
       "      <td>1.000000</td>\n",
       "      <td>0.000302</td>\n",
       "      <td>-0.028074</td>\n",
       "      <td>-0.012987</td>\n",
       "      <td>-0.021551</td>\n",
       "      <td>-0.009136</td>\n",
       "      <td>-0.045173</td>\n",
       "      <td>-0.013525</td>\n",
       "      <td>0.001532</td>\n",
       "    </tr>\n",
       "    <tr>\n",
       "      <th>Verified</th>\n",
       "      <td>0.000302</td>\n",
       "      <td>1.000000</td>\n",
       "      <td>-0.010705</td>\n",
       "      <td>-0.009041</td>\n",
       "      <td>0.012481</td>\n",
       "      <td>-0.010860</td>\n",
       "      <td>0.128767</td>\n",
       "      <td>0.032176</td>\n",
       "      <td>-0.078149</td>\n",
       "    </tr>\n",
       "    <tr>\n",
       "      <th>Seat Comfort</th>\n",
       "      <td>-0.028074</td>\n",
       "      <td>-0.010705</td>\n",
       "      <td>1.000000</td>\n",
       "      <td>0.755523</td>\n",
       "      <td>0.722211</td>\n",
       "      <td>0.714854</td>\n",
       "      <td>0.618230</td>\n",
       "      <td>0.662232</td>\n",
       "      <td>0.759475</td>\n",
       "    </tr>\n",
       "    <tr>\n",
       "      <th>Cabin Staff Service</th>\n",
       "      <td>-0.012987</td>\n",
       "      <td>-0.009041</td>\n",
       "      <td>0.755523</td>\n",
       "      <td>1.000000</td>\n",
       "      <td>0.769532</td>\n",
       "      <td>0.714276</td>\n",
       "      <td>0.591799</td>\n",
       "      <td>0.626893</td>\n",
       "      <td>0.751843</td>\n",
       "    </tr>\n",
       "    <tr>\n",
       "      <th>Food &amp; Beverages</th>\n",
       "      <td>-0.021551</td>\n",
       "      <td>0.012481</td>\n",
       "      <td>0.722211</td>\n",
       "      <td>0.769532</td>\n",
       "      <td>1.000000</td>\n",
       "      <td>0.690667</td>\n",
       "      <td>0.671147</td>\n",
       "      <td>0.691146</td>\n",
       "      <td>0.752053</td>\n",
       "    </tr>\n",
       "    <tr>\n",
       "      <th>Ground Service</th>\n",
       "      <td>-0.009136</td>\n",
       "      <td>-0.010860</td>\n",
       "      <td>0.714854</td>\n",
       "      <td>0.714276</td>\n",
       "      <td>0.690667</td>\n",
       "      <td>1.000000</td>\n",
       "      <td>0.615878</td>\n",
       "      <td>0.640562</td>\n",
       "      <td>0.813856</td>\n",
       "    </tr>\n",
       "    <tr>\n",
       "      <th>Inflight Entertainment</th>\n",
       "      <td>-0.045173</td>\n",
       "      <td>0.128767</td>\n",
       "      <td>0.618230</td>\n",
       "      <td>0.591799</td>\n",
       "      <td>0.671147</td>\n",
       "      <td>0.615878</td>\n",
       "      <td>1.000000</td>\n",
       "      <td>0.778482</td>\n",
       "      <td>0.592668</td>\n",
       "    </tr>\n",
       "    <tr>\n",
       "      <th>Wifi &amp; Connectivity</th>\n",
       "      <td>-0.013525</td>\n",
       "      <td>0.032176</td>\n",
       "      <td>0.662232</td>\n",
       "      <td>0.626893</td>\n",
       "      <td>0.691146</td>\n",
       "      <td>0.640562</td>\n",
       "      <td>0.778482</td>\n",
       "      <td>1.000000</td>\n",
       "      <td>0.669146</td>\n",
       "    </tr>\n",
       "    <tr>\n",
       "      <th>Value For Money</th>\n",
       "      <td>0.001532</td>\n",
       "      <td>-0.078149</td>\n",
       "      <td>0.759475</td>\n",
       "      <td>0.751843</td>\n",
       "      <td>0.752053</td>\n",
       "      <td>0.813856</td>\n",
       "      <td>0.592668</td>\n",
       "      <td>0.669146</td>\n",
       "      <td>1.000000</td>\n",
       "    </tr>\n",
       "  </tbody>\n",
       "</table>\n",
       "</div>"
      ],
      "text/plain": [
       "                        Unnamed: 0  Verified  Seat Comfort  \\\n",
       "Unnamed: 0                1.000000  0.000302     -0.028074   \n",
       "Verified                  0.000302  1.000000     -0.010705   \n",
       "Seat Comfort             -0.028074 -0.010705      1.000000   \n",
       "Cabin Staff Service      -0.012987 -0.009041      0.755523   \n",
       "Food & Beverages         -0.021551  0.012481      0.722211   \n",
       "Ground Service           -0.009136 -0.010860      0.714854   \n",
       "Inflight Entertainment   -0.045173  0.128767      0.618230   \n",
       "Wifi & Connectivity      -0.013525  0.032176      0.662232   \n",
       "Value For Money           0.001532 -0.078149      0.759475   \n",
       "\n",
       "                        Cabin Staff Service  Food & Beverages  Ground Service  \\\n",
       "Unnamed: 0                        -0.012987         -0.021551       -0.009136   \n",
       "Verified                          -0.009041          0.012481       -0.010860   \n",
       "Seat Comfort                       0.755523          0.722211        0.714854   \n",
       "Cabin Staff Service                1.000000          0.769532        0.714276   \n",
       "Food & Beverages                   0.769532          1.000000        0.690667   \n",
       "Ground Service                     0.714276          0.690667        1.000000   \n",
       "Inflight Entertainment             0.591799          0.671147        0.615878   \n",
       "Wifi & Connectivity                0.626893          0.691146        0.640562   \n",
       "Value For Money                    0.751843          0.752053        0.813856   \n",
       "\n",
       "                        Inflight Entertainment  Wifi & Connectivity  \\\n",
       "Unnamed: 0                           -0.045173            -0.013525   \n",
       "Verified                              0.128767             0.032176   \n",
       "Seat Comfort                          0.618230             0.662232   \n",
       "Cabin Staff Service                   0.591799             0.626893   \n",
       "Food & Beverages                      0.671147             0.691146   \n",
       "Ground Service                        0.615878             0.640562   \n",
       "Inflight Entertainment                1.000000             0.778482   \n",
       "Wifi & Connectivity                   0.778482             1.000000   \n",
       "Value For Money                       0.592668             0.669146   \n",
       "\n",
       "                        Value For Money  \n",
       "Unnamed: 0                     0.001532  \n",
       "Verified                      -0.078149  \n",
       "Seat Comfort                   0.759475  \n",
       "Cabin Staff Service            0.751843  \n",
       "Food & Beverages               0.752053  \n",
       "Ground Service                 0.813856  \n",
       "Inflight Entertainment         0.592668  \n",
       "Wifi & Connectivity            0.669146  \n",
       "Value For Money                1.000000  "
      ]
     },
     "execution_count": 41,
     "metadata": {},
     "output_type": "execute_result"
    }
   ],
   "source": [
    "# correlation percentage\n",
    "df.corr()"
   ]
  },
  {
   "cell_type": "code",
   "execution_count": 26,
   "metadata": {},
   "outputs": [],
   "source": [
    "#I observed correlation of 'Inflight Entertainment', 'Wifi & Connectivity' columns is <0.5,\n",
    "# I decided to drop these columns"
   ]
  },
  {
   "cell_type": "code",
   "execution_count": 42,
   "metadata": {},
   "outputs": [],
   "source": [
    "# after looking null%,and correlation% Wifi & Connectivity,\"Inflight Entertainment\",\"Aircraft\" columns has more null%.\n",
    "# Idecided to drop these.\n",
    "df.drop(columns=[\"Wifi & Connectivity\",\"Inflight Entertainment\",\"Aircraft\"],inplace=True)"
   ]
  },
  {
   "cell_type": "code",
   "execution_count": 43,
   "metadata": {},
   "outputs": [],
   "source": [
    "# Forward-fill (fill missing values with the previous valid value)\n",
    "df['Type Of Traveller'] = df['Type Of Traveller'].fillna(method='ffill')"
   ]
  },
  {
   "cell_type": "code",
   "execution_count": 44,
   "metadata": {},
   "outputs": [
    {
     "data": {
      "text/plain": [
       "0"
      ]
     },
     "execution_count": 44,
     "metadata": {},
     "output_type": "execute_result"
    }
   ],
   "source": [
    "df['Type Of Traveller'].isnull().sum()"
   ]
  },
  {
   "cell_type": "code",
   "execution_count": 45,
   "metadata": {},
   "outputs": [],
   "source": [
    "# Replace the Missing\n",
    "df['Seat Type'] = df['Seat Type'].fillna('_MISSING_')"
   ]
  },
  {
   "cell_type": "code",
   "execution_count": null,
   "metadata": {},
   "outputs": [],
   "source": [
    "# Mode represents the most frequent value in a categorical variable.\n",
    "\n",
    "# It is used to impute missing values in categorical data because it preserves the distribution and frequency of the categories."
   ]
  },
  {
   "cell_type": "code",
   "execution_count": 46,
   "metadata": {},
   "outputs": [],
   "source": [
    "df['Seat Type'] = df['Seat Type'].mode().values[0]"
   ]
  },
  {
   "cell_type": "code",
   "execution_count": 47,
   "metadata": {},
   "outputs": [
    {
     "data": {
      "text/plain": [
       "0"
      ]
     },
     "execution_count": 47,
     "metadata": {},
     "output_type": "execute_result"
    }
   ],
   "source": [
    "df['Seat Type'].isnull().sum()"
   ]
  },
  {
   "cell_type": "code",
   "execution_count": 48,
   "metadata": {},
   "outputs": [],
   "source": [
    "df['Date Flown'] = df['Date Flown'].mode().values[0]"
   ]
  },
  {
   "cell_type": "code",
   "execution_count": 49,
   "metadata": {},
   "outputs": [
    {
     "data": {
      "text/plain": [
       "0"
      ]
     },
     "execution_count": 49,
     "metadata": {},
     "output_type": "execute_result"
    }
   ],
   "source": [
    "df['Date Flown'].isnull().sum()"
   ]
  },
  {
   "cell_type": "code",
   "execution_count": null,
   "metadata": {},
   "outputs": [],
   "source": [
    "# feature is a numeric variable,applied missing data imputation. \n",
    "# Replaced the missing values with the average or median value from the data of the same feature that is not missing."
   ]
  },
  {
   "cell_type": "code",
   "execution_count": 50,
   "metadata": {},
   "outputs": [],
   "source": [
    "df['Seat Comfort']= df['Seat Comfort'].fillna(df['Seat Comfort'].median())\n",
    "df['Cabin Staff Service']= df['Cabin Staff Service'].fillna(df['Cabin Staff Service'].median())\n",
    "df['Ground Service'] = df['Ground Service'].fillna(df['Ground Service'].median())\n",
    "df['Value For Money'] = df['Value For Money'].fillna(df['Value For Money'].median())\n",
    "df['Food & Beverages'] = df['Food & Beverages'].fillna(df['Food & Beverages'].median())"
   ]
  },
  {
   "cell_type": "code",
   "execution_count": 51,
   "metadata": {},
   "outputs": [
    {
     "name": "stdout",
     "output_type": "stream",
     "text": [
      "Unnamed: 0 - 0%\n",
      "Airline Name - 0%\n",
      "Overall_Rating - 0%\n",
      "Review_Title - 0%\n",
      "Review Date - 0%\n",
      "Verified - 0%\n",
      "Review - 0%\n",
      "Type Of Traveller - 0%\n",
      "Seat Type - 0%\n",
      "Route - 17%\n",
      "Date Flown - 0%\n",
      "Seat Comfort - 0%\n",
      "Cabin Staff Service - 0%\n",
      "Food & Beverages - 0%\n",
      "Ground Service - 0%\n",
      "Value For Money - 0%\n",
      "Recommended - 0%\n"
     ]
    }
   ],
   "source": [
    "for col in df.columns:\n",
    "    pct_missing = np.mean(df[col].isnull())\n",
    "    print('{} - {}%'.format(col, round(pct_missing*100)))\n"
   ]
  },
  {
   "cell_type": "markdown",
   "metadata": {
    "azdata_cell_guid": "1233f543-e9a0-4f78-96f5-d7536554102e"
   },
   "source": [
    "## Irregular Data\n",
    "\n",
    "Detect outliers in your dataset and handle them as needed. Use code comments to make notes about your thought process."
   ]
  },
  {
   "cell_type": "code",
   "execution_count": 52,
   "metadata": {},
   "outputs": [
    {
     "data": {
      "text/plain": [
       "Unnamed: 0               int64\n",
       "Airline Name            object\n",
       "Overall_Rating          object\n",
       "Review_Title            object\n",
       "Review Date             object\n",
       "Verified                  bool\n",
       "Review                  object\n",
       "Type Of Traveller       object\n",
       "Seat Type               object\n",
       "Route                   object\n",
       "Date Flown              object\n",
       "Seat Comfort           float64\n",
       "Cabin Staff Service    float64\n",
       "Food & Beverages       float64\n",
       "Ground Service         float64\n",
       "Value For Money        float64\n",
       "Recommended             object\n",
       "dtype: object"
      ]
     },
     "execution_count": 52,
     "metadata": {},
     "output_type": "execute_result"
    }
   ],
   "source": [
    "# Depending on if a column is numeric or categorical with determine what method \n",
    "# to use for outliers\n",
    "\n",
    "# find the datatype of each column\n",
    "df.dtypes"
   ]
  },
  {
   "cell_type": "code",
   "execution_count": 53,
   "metadata": {
    "azdata_cell_guid": "efed50ae-16f0-471d-98e2-632553a74c12"
   },
   "outputs": [
    {
     "data": {
      "text/html": [
       "<div>\n",
       "<style scoped>\n",
       "    .dataframe tbody tr th:only-of-type {\n",
       "        vertical-align: middle;\n",
       "    }\n",
       "\n",
       "    .dataframe tbody tr th {\n",
       "        vertical-align: top;\n",
       "    }\n",
       "\n",
       "    .dataframe thead th {\n",
       "        text-align: right;\n",
       "    }\n",
       "</style>\n",
       "<table border=\"1\" class=\"dataframe\">\n",
       "  <thead>\n",
       "    <tr style=\"text-align: right;\">\n",
       "      <th></th>\n",
       "      <th>Unnamed: 0</th>\n",
       "      <th>Seat Comfort</th>\n",
       "      <th>Cabin Staff Service</th>\n",
       "      <th>Food &amp; Beverages</th>\n",
       "      <th>Ground Service</th>\n",
       "      <th>Value For Money</th>\n",
       "    </tr>\n",
       "  </thead>\n",
       "  <tbody>\n",
       "    <tr>\n",
       "      <th>count</th>\n",
       "      <td>23171.00000</td>\n",
       "      <td>23171.000000</td>\n",
       "      <td>23171.000000</td>\n",
       "      <td>23171.000000</td>\n",
       "      <td>23171.000000</td>\n",
       "      <td>23171.000000</td>\n",
       "    </tr>\n",
       "    <tr>\n",
       "      <th>mean</th>\n",
       "      <td>11585.00000</td>\n",
       "      <td>2.686807</td>\n",
       "      <td>2.895214</td>\n",
       "      <td>2.346424</td>\n",
       "      <td>2.073713</td>\n",
       "      <td>2.430409</td>\n",
       "    </tr>\n",
       "    <tr>\n",
       "      <th>std</th>\n",
       "      <td>6689.03588</td>\n",
       "      <td>1.335065</td>\n",
       "      <td>1.450486</td>\n",
       "      <td>1.236760</td>\n",
       "      <td>1.523264</td>\n",
       "      <td>1.559917</td>\n",
       "    </tr>\n",
       "    <tr>\n",
       "      <th>min</th>\n",
       "      <td>0.00000</td>\n",
       "      <td>0.000000</td>\n",
       "      <td>0.000000</td>\n",
       "      <td>0.000000</td>\n",
       "      <td>1.000000</td>\n",
       "      <td>0.000000</td>\n",
       "    </tr>\n",
       "    <tr>\n",
       "      <th>25%</th>\n",
       "      <td>5792.50000</td>\n",
       "      <td>1.000000</td>\n",
       "      <td>1.000000</td>\n",
       "      <td>2.000000</td>\n",
       "      <td>1.000000</td>\n",
       "      <td>1.000000</td>\n",
       "    </tr>\n",
       "    <tr>\n",
       "      <th>50%</th>\n",
       "      <td>11585.00000</td>\n",
       "      <td>3.000000</td>\n",
       "      <td>3.000000</td>\n",
       "      <td>2.000000</td>\n",
       "      <td>1.000000</td>\n",
       "      <td>2.000000</td>\n",
       "    </tr>\n",
       "    <tr>\n",
       "      <th>75%</th>\n",
       "      <td>17377.50000</td>\n",
       "      <td>4.000000</td>\n",
       "      <td>4.000000</td>\n",
       "      <td>3.000000</td>\n",
       "      <td>3.000000</td>\n",
       "      <td>4.000000</td>\n",
       "    </tr>\n",
       "    <tr>\n",
       "      <th>max</th>\n",
       "      <td>23170.00000</td>\n",
       "      <td>5.000000</td>\n",
       "      <td>5.000000</td>\n",
       "      <td>5.000000</td>\n",
       "      <td>5.000000</td>\n",
       "      <td>5.000000</td>\n",
       "    </tr>\n",
       "  </tbody>\n",
       "</table>\n",
       "</div>"
      ],
      "text/plain": [
       "        Unnamed: 0  Seat Comfort  Cabin Staff Service  Food & Beverages  \\\n",
       "count  23171.00000  23171.000000         23171.000000      23171.000000   \n",
       "mean   11585.00000      2.686807             2.895214          2.346424   \n",
       "std     6689.03588      1.335065             1.450486          1.236760   \n",
       "min        0.00000      0.000000             0.000000          0.000000   \n",
       "25%     5792.50000      1.000000             1.000000          2.000000   \n",
       "50%    11585.00000      3.000000             3.000000          2.000000   \n",
       "75%    17377.50000      4.000000             4.000000          3.000000   \n",
       "max    23170.00000      5.000000             5.000000          5.000000   \n",
       "\n",
       "       Ground Service  Value For Money  \n",
       "count    23171.000000     23171.000000  \n",
       "mean         2.073713         2.430409  \n",
       "std          1.523264         1.559917  \n",
       "min          1.000000         0.000000  \n",
       "25%          1.000000         1.000000  \n",
       "50%          1.000000         2.000000  \n",
       "75%          3.000000         4.000000  \n",
       "max          5.000000         5.000000  "
      ]
     },
     "execution_count": 53,
     "metadata": {},
     "output_type": "execute_result"
    }
   ],
   "source": [
    "# I am using describe to find out outliers,food & Beverages showed feature has outliers. \n",
    "df.describe()"
   ]
  },
  {
   "cell_type": "code",
   "execution_count": 54,
   "metadata": {},
   "outputs": [
    {
     "data": {
      "text/plain": [
       "<matplotlib.axes._subplots.AxesSubplot at 0x1f068d97148>"
      ]
     },
     "execution_count": 54,
     "metadata": {},
     "output_type": "execute_result"
    },
    {
     "data": {
      "image/png": "[encoded data removed]",
      "text/plain": [
       "<Figure size 432x288 with 1 Axes>"
      ]
     },
     "metadata": {
      "needs_background": "light"
     },
     "output_type": "display_data"
    }
   ],
   "source": [
    "df.boxplot(column=['Food & Beverages'])"
   ]
  },
  {
   "cell_type": "code",
   "execution_count": 55,
   "metadata": {},
   "outputs": [
    {
     "data": {
      "text/plain": [
       "<matplotlib.axes._subplots.AxesSubplot at 0x1f068021a08>"
      ]
     },
     "execution_count": 55,
     "metadata": {},
     "output_type": "execute_result"
    },
    {
     "data": {
      "image/png": "[encoded data removed]",
      "text/plain": [
       "<Figure size 432x288 with 1 Axes>"
      ]
     },
     "metadata": {
      "needs_background": "light"
     },
     "output_type": "display_data"
    }
   ],
   "source": [
    "df['Food & Beverages'].hist(bins=100)"
   ]
  },
  {
   "cell_type": "code",
   "execution_count": 56,
   "metadata": {},
   "outputs": [
    {
     "data": {
      "text/plain": [
       "2.0    10638\n",
       "1.0     5283\n",
       "3.0     2424\n",
       "4.0     2332\n",
       "5.0     2242\n",
       "0.0      252\n",
       "Name: Food & Beverages, dtype: int64"
      ]
     },
     "execution_count": 56,
     "metadata": {},
     "output_type": "execute_result"
    }
   ],
   "source": [
    "df['Food & Beverages'].value_counts()"
   ]
  },
  {
   "cell_type": "code",
   "execution_count": null,
   "metadata": {},
   "outputs": [],
   "source": [
    "# value 0 and 1 seems to be outliers here,at this time i am not convinced to remove any outliers column"
   ]
  },
  {
   "cell_type": "markdown",
   "metadata": {
    "azdata_cell_guid": "6f5b8ee0-bab3-44bc-958a-67d1e4c0407f"
   },
   "source": [
    "## Unnecessary Data\n",
    "\n",
    "Look for the different types of unnecessary data in your dataset and address it as needed. Make sure to use code comments to illustrate your thought process."
   ]
  },
  {
   "cell_type": "code",
   "execution_count": 57,
   "metadata": {},
   "outputs": [
    {
     "data": {
      "text/plain": [
       "Index(['Unnamed: 0', 'Airline Name', 'Overall_Rating', 'Review_Title',\n",
       "       'Review Date', 'Verified', 'Review', 'Type Of Traveller', 'Seat Type',\n",
       "       'Route', 'Date Flown', 'Seat Comfort', 'Cabin Staff Service',\n",
       "       'Food & Beverages', 'Ground Service', 'Value For Money', 'Recommended'],\n",
       "      dtype='object')"
      ]
     },
     "execution_count": 57,
     "metadata": {},
     "output_type": "execute_result"
    }
   ],
   "source": [
    "df.columns"
   ]
  },
  {
   "cell_type": "code",
   "execution_count": 58,
   "metadata": {
    "azdata_cell_guid": "e788a239-2fbf-41de-9bd3-19e52e3b187c"
   },
   "outputs": [],
   "source": [
    "# In the EDA process, I discovered that some of the columns are redundant so I am going to remove these ones first.\n",
    "df.drop(columns=['Unnamed: 0','Review Date','Date Flown','Route'],inplace=True)"
   ]
  },
  {
   "cell_type": "markdown",
   "metadata": {
    "azdata_cell_guid": "53e0cf94-c68a-4fa0-9849-9505a66bcce6"
   },
   "source": [
    "## Inconsistent Data\n",
    "\n",
    "Check for inconsistent data and address any that arises. As always, use code comments to illustrate your thought process."
   ]
  },
  {
   "cell_type": "code",
   "execution_count": 59,
   "metadata": {
    "azdata_cell_guid": "e9de6624-812a-43f8-8e20-93b4a49b091f"
   },
   "outputs": [
    {
     "data": {
      "text/plain": [
       "1    11595\n",
       "2     2296\n",
       "9     1768\n",
       "8     1757\n",
       "3     1356\n",
       "7     1193\n",
       "4      859\n",
       "n      842\n",
       "5      830\n",
       "6      675\n",
       "Name: Overall_Rating, dtype: int64"
      ]
     },
     "execution_count": 59,
     "metadata": {},
     "output_type": "execute_result"
    }
   ],
   "source": [
    "df['Overall_Rating'].value_counts()"
   ]
  },
  {
   "cell_type": "code",
   "execution_count": 60,
   "metadata": {},
   "outputs": [],
   "source": [
    "# I Observed overall_Rating column has 1 to 9,I assumed there might be mistake type n instead of 10\n",
    "# I decided to replace 10 inplace of 10.\n",
    "df['Overall_Rating']=df['Overall_Rating'].replace('n',10)"
   ]
  },
  {
   "cell_type": "code",
   "execution_count": 61,
   "metadata": {},
   "outputs": [
    {
     "data": {
      "text/plain": [
       "1     11595\n",
       "2      2296\n",
       "9      1768\n",
       "8      1757\n",
       "3      1356\n",
       "7      1193\n",
       "4       859\n",
       "10      842\n",
       "5       830\n",
       "6       675\n",
       "Name: Overall_Rating, dtype: int64"
      ]
     },
     "execution_count": 61,
     "metadata": {},
     "output_type": "execute_result"
    }
   ],
   "source": [
    "df['Overall_Rating'].value_counts()"
   ]
  },
  {
   "cell_type": "code",
   "execution_count": 62,
   "metadata": {},
   "outputs": [
    {
     "data": {
      "text/plain": [
       "no     15364\n",
       "yes     7807\n",
       "Name: Recommended, dtype: int64"
      ]
     },
     "execution_count": 62,
     "metadata": {},
     "output_type": "execute_result"
    }
   ],
   "source": [
    "# I observed recommended column values are string data,For analysis purpose I decided to replace no as 0 and yes as 1.\n",
    "df['Recommended'].value_counts()"
   ]
  },
  {
   "cell_type": "code",
   "execution_count": 63,
   "metadata": {},
   "outputs": [],
   "source": [
    "df['Recommended']=df['Recommended'].map({'no':0,'yes':1})\n"
   ]
  },
  {
   "cell_type": "code",
   "execution_count": 64,
   "metadata": {},
   "outputs": [
    {
     "data": {
      "text/plain": [
       "0    15364\n",
       "1     7807\n",
       "Name: Recommended, dtype: int64"
      ]
     },
     "execution_count": 64,
     "metadata": {},
     "output_type": "execute_result"
    }
   ],
   "source": [
    "df['Recommended'].value_counts()"
   ]
  },
  {
   "cell_type": "code",
   "execution_count": 65,
   "metadata": {},
   "outputs": [],
   "source": [
    "# Exporting cleaned data set\n",
    "df.to_csv(\"C:\\\\Users\\\\prave\\\\Desktop\\\\LaunchcodeW+\\\\cleaning-data-checkpoint\\\\cleaning_checkpoint.csv\")\n"
   ]
  },
  {
   "cell_type": "markdown",
   "metadata": {
    "azdata_cell_guid": "dedc0bfe-17d0-40b2-914f-2ddb54f9ce0d"
   },
   "source": [
    "## Summarize Your Results\n",
    "\n",
    "Make note of your answers to the following questions.\n",
    "\n",
    "1. Did you find all four types of dirty data in your dataset?\n",
    "   Yes, in some columns there were missing values and irregular data.\n",
    "2. Did the process of cleaning your data give you new insights into your dataset?\n",
    "   Yes, I am more familiar with the few entities I'm actually interested in exploring\n",
    "3. Is there anything you would like to make note of when it comes to manipulating the data and making visualizations?\n",
    "   No"
   ]
  }
 ],
 "metadata": {
  "kernelspec": {
   "display_name": "Python 3",
   "language": "python",
   "name": "python3"
  },
  "language_info": {
   "codemirror_mode": {
    "name": "ipython",
    "version": 3
   },
   "file_extension": ".py",
   "mimetype": "text/x-python",
   "name": "python",
   "nbconvert_exporter": "python",
   "pygments_lexer": "ipython3",
   "version": "3.7.4"
  }
 },
 "nbformat": 4,
 "nbformat_minor": 2
}
